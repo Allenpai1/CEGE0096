{
 "cells": [
  {
   "cell_type": "markdown",
   "metadata": {},
   "source": [
    "# Practical: Python Data Structures and PyCharm\n",
    "\n",
    "## Data Structures"
   ]
  },
  {
   "cell_type": "markdown",
   "metadata": {},
   "source": [
    "### Tuples\n",
    "\n",
    "A `tuple` is used to represent an **immutable** sequence of objects. Here you find an example of a tuple:"
   ]
  },
  {
   "cell_type": "code",
   "execution_count": 1,
   "metadata": {},
   "outputs": [
    {
     "name": "stdout",
     "output_type": "stream",
     "text": [
      "(0, 1, 'hello', 'world')\n",
      "hello\n"
     ]
    }
   ],
   "source": [
    "t = (0, 1, \"hello\", \"world\")\n",
    "print(t)\n",
    "\n",
    "print(t[2])"
   ]
  },
  {
   "cell_type": "code",
   "execution_count": 2,
   "metadata": {},
   "outputs": [
    {
     "data": {
      "text/plain": [
       "(0, 2)"
      ]
     },
     "execution_count": 2,
     "metadata": {},
     "output_type": "execute_result"
    }
   ],
   "source": [
    "def sum_and_diff(a, b):\n",
    "    return (a + b, a - b)\n",
    "\n",
    "sum_and_diff(1, -1)"
   ]
  },
  {
   "cell_type": "markdown",
   "metadata": {},
   "source": [
    "## Set\n",
    "\n",
    "### Cannot contains dumplicaltes,Note that, unlike lists, in sets the order is not preserved.  "
   ]
  },
  {
   "cell_type": "code",
   "execution_count": 4,
   "metadata": {},
   "outputs": [
    {
     "name": "stdout",
     "output_type": "stream",
     "text": [
      "{0, 1, '!', 'world', 'hello'}\n",
      "{0, 1, '!', 'world', 'hello'}\n"
     ]
    }
   ],
   "source": [
    "s = {0, 1, \"hello\", \"world\"}\n",
    "for _ in range(100):\n",
    "    s.add(\"!\")\n",
    "\n",
    "print(s)\n",
    "\n",
    "#can pop the index and remove with specifc values,When you are not sure whether the item you want to remove exists in the set, use discard to eliminate it:\n",
    "s.discard(3)#without tuning an error \n",
    "print(s)"
   ]
  },
  {
   "cell_type": "markdown",
   "metadata": {},
   "source": [
    "# Exercise 15\n",
    "\n",
    "Print to screen the items contained in `my_grocery` without repetition. For example, if your list containes `apple` 5 times you should print `apple` only once.\n",
    "\n",
    "TIP: Move the items of the list into a set `bought_items`, then print it."
   ]
  },
  {
   "cell_type": "code",
   "execution_count": 5,
   "metadata": {},
   "outputs": [
    {
     "name": "stdout",
     "output_type": "stream",
     "text": [
      "['apple', 'apple', 'apple', 'apple', 'kiwi', 'kiwi', 'cereals']\n",
      "kiwi\n",
      "apple\n",
      "cereals\n"
     ]
    }
   ],
   "source": [
    "my_grocery = [\"apple\", \"apple\", \"apple\", \"apple\", \"kiwi\", \"kiwi\", \"cereals\"] # continue the list\n",
    "print(my_grocery)\n",
    "# complete the code\n",
    "bought_items = set()\n",
    "for item in my_grocery:\n",
    "    bought_items.add(item)\n",
    "\n",
    "for item in bought_items:\n",
    "    print(item)"
   ]
  },
  {
   "cell_type": "markdown",
   "metadata": {},
   "source": [
    "# Dictionary: "
   ]
  },
  {
   "cell_type": "code",
   "execution_count": null,
   "metadata": {},
   "outputs": [],
   "source": [
    "d = {0:0, 1:0, \"hello\":1, \"world\":100}\n",
    "print(d)\n",
    "\n",
    "d[\"!\"] = \"great\"###add in element\n",
    "print(d)\n",
    "\n",
    "d.pop(\"!\") #pop element\n",
    "\n",
    "d.keys() #get keys \n",
    "\n",
    "d.values()#get values\n",
    "\n",
    "d.items()#get both key and values"
   ]
  },
  {
   "cell_type": "markdown",
   "metadata": {},
   "source": [
    "# Exercise 16\n",
    "\n",
    "Print your grocery list using `my_grocery` list. Here is an example of a grocery list (the order does not matter):\n",
    "\n",
    "- 5 apples;\n",
    "- 3 kiwi;\n",
    "- 1 cereals.\n",
    "\n",
    "TIP: First count your items using a dictionary, then print the content of the dictionary appropriately."
   ]
  },
  {
   "cell_type": "code",
   "execution_count": 10,
   "metadata": {},
   "outputs": [
    {
     "name": "stdout",
     "output_type": "stream",
     "text": [
      "['apple', 'apple', 'apple', 'apple', 'kiwi', 'kiwi', 'cereals', 'kiwi', 'kiwi', 'kiwi']\n",
      "['apple', 'apple', 'apple', 'apple', 'kiwi', 'kiwi', 'cereals', 'kiwi', 'kiwi', 'kiwi', 'kiwi', 'apple']\n",
      "5 apple\n",
      "6 kiwi\n",
      "1 cereals\n"
     ]
    }
   ],
   "source": [
    "print(my_grocery)\n",
    "my_grocery.append('kiwi')\n",
    "my_grocery.append('apple')\n",
    "print(my_grocery)\n",
    "\n",
    "dic = {} \n",
    "for item in my_grocery:\n",
    "    if item not in dic:\n",
    "        dic[item] = 0\n",
    "    dic[item] = dic[item] + 1\n",
    "\n",
    "for key, value in dic.items():\n",
    "    print(value, key)"
   ]
  },
  {
   "cell_type": "markdown",
   "metadata": {},
   "source": [
    "### String manipulation\n",
    "\n",
    "    "
   ]
  },
  {
   "cell_type": "code",
   "execution_count": 24,
   "metadata": {},
   "outputs": [
    {
     "name": "stdout",
     "output_type": "stream",
     "text": [
      "     I am surrounded by whitespaces!             \n",
      "I am surrounded by whitespaces!\n",
      "     I am no longer surrounded by whitespaces!             \n"
     ]
    },
    {
     "data": {
      "text/plain": [
       "['     I am no longer surrounded ', 'y whitespaces!             ']"
      ]
     },
     "execution_count": 24,
     "metadata": {},
     "output_type": "execute_result"
    }
   ],
   "source": [
    "string = \"     I am surrounded by whitespaces!             \"\n",
    "print(string)\n",
    "\n",
    "print(string.strip())#get rid of the white space\n",
    "\n",
    "string = string.replace(\"am\", \"am no longer\")\n",
    "print(string)\n",
    "\n",
    "string.split(\"b\")\n"
   ]
  },
  {
   "cell_type": "markdown",
   "metadata": {},
   "source": [
    "### Exercise 17\n",
    "\n",
    "Split the variable `string` by whitespaces:"
   ]
  },
  {
   "cell_type": "code",
   "execution_count": 28,
   "metadata": {},
   "outputs": [
    {
     "name": "stdout",
     "output_type": "stream",
     "text": [
      "I am no longer surrounded by whitespaces!\n"
     ]
    },
    {
     "data": {
      "text/plain": [
       "['I', 'am', 'no', 'longer', 'surrounded', 'by', 'whitespaces!']"
      ]
     },
     "execution_count": 28,
     "metadata": {},
     "output_type": "execute_result"
    }
   ],
   "source": [
    "# complete the code\n",
    "string=string.strip()\n",
    "print(string)\n",
    "\n",
    "string.split(\" \")"
   ]
  },
  {
   "cell_type": "markdown",
   "metadata": {},
   "source": [
    "## File To write into a file you can use `open` and write (similarly to the way you use print):"
   ]
  },
  {
   "cell_type": "code",
   "execution_count": 29,
   "metadata": {},
   "outputs": [],
   "source": [
    "string = \"write me on a file\"\n",
    "with open(\"temp.txt\", \"w\") as f:\n",
    "    f.write(string)"
   ]
  },
  {
   "cell_type": "code",
   "execution_count": 30,
   "metadata": {},
   "outputs": [
    {
     "name": "stdout",
     "output_type": "stream",
     "text": [
      "write me on a file\n"
     ]
    }
   ],
   "source": [
    "string = \"\"\n",
    "with open(\"temp.txt\", \"r\") as f:\n",
    "    string = f.readline()\n",
    "print(string)\n",
    "#check the string matches the element in the file   "
   ]
  },
  {
   "cell_type": "markdown",
   "metadata": {},
   "source": [
    "# Exercise 18\n",
    "\n",
    "Write the code to read the content of the file `my_grocery.txt` into a dictionary `my_grocery`. The file contains the list of items I bought with their quantity.\n",
    "\n",
    "But first you need to write this file like this:"
   ]
  },
  {
   "cell_type": "code",
   "execution_count": 31,
   "metadata": {},
   "outputs": [],
   "source": [
    "lines = [\"apple 5\\n\", \"kiwi 12\\n\", \"cereals 2\\n\"]\n",
    "with open(\"my_grocery.txt\", \"w\") as f:\n",
    "    for line in lines:\n",
    "        f.write(line)"
   ]
  },
  {
   "cell_type": "code",
   "execution_count": 32,
   "metadata": {},
   "outputs": [
    {
     "name": "stdout",
     "output_type": "stream",
     "text": [
      "{'apple': 5, 'kiwi': 12, 'cereals': 2}\n"
     ]
    }
   ],
   "source": [
    "my_grocery = {}\n",
    "with open(\"my_grocery.txt\", \"r\") as f:\n",
    "    for line in f.readlines():\n",
    "        tokens = line.split(\" \")#split by the space\n",
    "        item = tokens[0]\n",
    "        quantity = int(tokens[1])\n",
    "        my_grocery[item] = quantity\n",
    "        \n",
    "print(my_grocery)"
   ]
  },
  {
   "cell_type": "markdown",
   "metadata": {},
   "source": [
    "# Exercise 19 (like Exercise 10)\n",
    "\n",
    "Create a project named `Exercise_19` in PyCharm and create a file named `main.py`. Use this file to do a basic program planning and write in the main function the solution to Exercise 2.\n",
    "\n",
    "Here is my version, but feel free to use your version of the solution:"
   ]
  },
  {
   "cell_type": "code",
   "execution_count": 33,
   "metadata": {},
   "outputs": [
    {
     "name": "stdout",
     "output_type": "stream",
     "text": [
      "1\n"
     ]
    }
   ],
   "source": [
    "full_name = input(\"Please input your full name: \")\n",
    "print(len(full_name))"
   ]
  },
  {
   "cell_type": "markdown",
   "metadata": {},
   "source": [
    "# Exercise 20\n",
    "\n",
    "In the same project `Exercise_19`, create a new file called `fibonacci_series.py`. Create a program and copy after then main statement you favorite fibonacci series code. Then, execute it.\n",
    "\n",
    "Now, set a breakpoint to your code and debug it.\n"
   ]
  },
  {
   "cell_type": "code",
   "execution_count": 35,
   "metadata": {},
   "outputs": [
    {
     "name": "stdout",
     "output_type": "stream",
     "text": [
      "[1,1,2,3,4,4]\n",
      "None\n"
     ]
    }
   ],
   "source": [
    "class ListNode(object):\n",
    "    def __init__(self, val=0, next=None):\n",
    "        self.val = val\n",
    "        self.next = next\n",
    "\n",
    "def make_list(elements):\n",
    "    head = ListNode(elements[0])\n",
    "    for element in elements[1:]:\n",
    "        ptr = head\n",
    "        while ptr.next:\n",
    "            ptr = ptr.next #移动到current最后一个node)\n",
    "        ptr.next = ListNode(element) #创建指针\n",
    "    return head\n",
    "\n",
    "def print_list(head):\n",
    "    prt=head\n",
    "    print('[',end=\"\")\n",
    "    while prt:\n",
    "        if prt.next:\n",
    "            print(prt.val,end=\",\")\n",
    "        else:\n",
    "            print(prt.val,end=\"\")\n",
    "        prt=prt.next\n",
    "    print(']')\n",
    "    \n",
    "\n",
    "class Solution(object):\n",
    "    def mergeTwoLists(self, list1, list2):\n",
    "        \"\"\"\n",
    "        :type list1: Optional[ListNode]\n",
    "        :type list2: Optional[ListNode]\n",
    "        :rtype: Optional[ListNode]\n",
    "        \"\"\"\n",
    "        mylinklist=ListNode(0)\n",
    "        start1,start2,start3=mylinklist,list1,list2\n",
    "        while start2 and start3:\n",
    "            if start2.val<=start3.val:\n",
    "                start1.next=start2\n",
    "                start2=start2.next \n",
    "            else:\n",
    "                start1.next=start3\n",
    "                start3=start3.next\n",
    "            start1=start1.next #跳到最新\n",
    "        if start2:\n",
    "            start1.next=start2\n",
    "        elif start3:\n",
    "            start1.next=start3\n",
    "        return mylinklist.next\n",
    "\n",
    "l1 = [1,2,4]  \n",
    "l2 = [1,3,4]\n",
    "l1=make_list(l1)\n",
    "l2=make_list(l2)\n",
    "\n",
    "### 输出：[1,1,2,3,4,4]\n",
    "a=Solution()\n",
    "print(print_list(a.mergeTwoLists(l1,l2)))\n"
   ]
  }
 ],
 "metadata": {
  "interpreter": {
   "hash": "98590ff4fe04c8543246b2a01debd3de3c5ca9b666f43f1fa87d5110c692004c"
  },
  "kernelspec": {
   "display_name": "Python 3.10.1 64-bit",
   "language": "python",
   "name": "python3"
  },
  "language_info": {
   "codemirror_mode": {
    "name": "ipython",
    "version": 3
   },
   "file_extension": ".py",
   "mimetype": "text/x-python",
   "name": "python",
   "nbconvert_exporter": "python",
   "pygments_lexer": "ipython3",
   "version": "3.10.1"
  },
  "orig_nbformat": 4
 },
 "nbformat": 4,
 "nbformat_minor": 2
}
