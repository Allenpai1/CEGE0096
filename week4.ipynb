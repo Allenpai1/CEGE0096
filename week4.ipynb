{
 "cells": [
  {
   "cell_type": "markdown",
   "metadata": {},
   "source": [
    "# Practical: Object-Oriented Programming\n",
    "\n",
    "## Class Definition\n",
    "\n",
    "A `class` is a template for making objects, containing attributes and methods. Following, you find an example of a class\n",
    "with an attribute and a method:"
   ]
  },
  {
   "cell_type": "code",
   "execution_count": 29,
   "metadata": {},
   "outputs": [],
   "source": [
    "#exercise 7 in class\n",
    "#design the following classes:Geometry,Point,Line,Polygon,Triangle and Square\n",
    "#A point\n",
    "#A line given two points;\n",
    "#A polygon given 3 or more points;\n",
    "#A triangle given 3 points;\n",
    "#A square given its bottom left point and its side length\n",
    "#compute the are of a triangle given 3 points\n",
    "\n",
    "class Geometry:\n",
    "    def __init__(self,name):\n",
    "        self.__name=name\n",
    "    def get_name(self):\n",
    "        return self.__name\n",
    "\n",
    "class Point(Geometry):\n",
    "    def __init__(self,name,x,y):\n",
    "        super().__init__(name)\n",
    "        self.__x=x\n",
    "        self.__y=y\n",
    "        \n",
    "    def get_x(self):\n",
    "        return self.__x\n",
    "    \n",
    "    def get_y(self):\n",
    "        return self.__y\n",
    "\n",
    "class Line(Geometry):\n",
    "    def __init__(self,name,point_1,point_2):\n",
    "        super().__init__(name)\n",
    "        self.__point1=point_1\n",
    "        self.__point2=point_2\n",
    "\n",
    "class Polygon(Geometry):\n",
    "    def __init__(self,name,points):\n",
    "        super().__init__(name)\n",
    "        self.__points=points\n",
    "    \n",
    "    def get_points(self):\n",
    "        return self.__points\n",
    "    \n",
    "    def lines(self):\n",
    "        res=[]\n",
    "        points=self.get_points()\n",
    "        point_a=points[0]\n",
    "        for point_b in points[1:]:\n",
    "            res.append(Line(point_a.get_name()+'-'+point_b.get_name(),point_a,point_b))\n",
    "            point_a=point_b\n",
    "        res.append(Line(point_a.get_name()+'-'+points[0].get_name(),point_a,points[0]))\n",
    "        return res\n",
    "\n",
    "class Triangle(Polygon):\n",
    "    \n",
    "    def __init__(self, name, point1,point2,point3):\n",
    "        super().__init__(name,[point1,point2,point3])\n",
    "    \n",
    "    def area(self):\n",
    "        res=0\n",
    "        ps=self.get_points()\n",
    "        #shoelace formula \n",
    "        res=res+ps[1].get_x()*ps[2].get_y()-ps[2].get_x()*ps[1].get_y()\n",
    "        res=res-ps[0].get_x()*ps[2].get_y()+ps[2].get_x()*ps[0].get_y()\n",
    "        res=res+ps[0].get_x()*ps[1].get_y()-ps[1].get_x()*ps[0].get_y()\n",
    "        res=abs(res)/2\n",
    "        return res\n",
    "        \n",
    "class Square(Polygon):\n",
    "    \n",
    "    def __init__(self,name,bl_point,side):\n",
    "        points=[bl_point,Point('top left point',bl_point.get_x(),bl_point.get_y()+side),\n",
    "                Point('top right point',bl_point.get_x()+side,bl_point.get_y()+side),\n",
    "                Point('bottom right point',bl_point.get_x()+side,bl_point.get_y())]\n",
    "        super().__init__(name,points)\n",
    "        self.__side=side\n",
    "        \n",
    "    def area(self):\n",
    "        return self.__side**2\n",
    "    \n",
    "    ##super().__init__(parameters from parent that want to inherted)"
   ]
  },
  {
   "cell_type": "code",
   "execution_count": 30,
   "metadata": {},
   "outputs": [
    {
     "name": "stdout",
     "output_type": "stream",
     "text": [
      "Lines of the triangleA:\n",
      "A-B\n",
      "B-C\n",
      "C-A\n",
      "Area: 0.0\n"
     ]
    }
   ],
   "source": [
    "point_a=Point('A',0,0)\n",
    "point_b=Point('B',0,0)\n",
    "point_c=Point('C',0,0)\n",
    "\n",
    "triangle=Triangle('A',point_a,point_b,point_c)\n",
    "\n",
    "print('Lines of the triangle'+triangle.get_name()+':')\n",
    "for line in triangle.lines():\n",
    "    print(line.get_name())\n",
    "print('Area:',triangle.area())"
   ]
  },
  {
   "cell_type": "code",
   "execution_count": 33,
   "metadata": {},
   "outputs": [
    {
     "name": "stdout",
     "output_type": "stream",
     "text": [
      "Temperature to Perceived Temperature Converter (0.4)\n",
      "Your temperatuer today is: hot\n"
     ]
    }
   ],
   "source": [
    "print('Temperature to Perceived Temperature Converter (0.4)')\n",
    "\n",
    "perceived_temps=['freezing','very cold','cold','normal','hot','very hot']\n",
    "\n",
    "temps=[]\n",
    "\n",
    "with open('temps.txt','r') as f:\n",
    "    for line in f.readlines():\n",
    "        temp=float(line)\n",
    "        temps.append(temp)\n",
    "\n",
    "temp=float(input('what temperature is outside? '))\n",
    "perceived_temp=perceived_temps[-1]\n",
    "\n",
    "for i in range(len(temps)):\n",
    "    if temp<temps[i]:\n",
    "        perceived_temp=perceived_temps[i]\n",
    "        break\n",
    "print('Your temperatuer today is:', perceived_temp)"
   ]
  },
  {
   "cell_type": "code",
   "execution_count": 6,
   "metadata": {},
   "outputs": [
    {
     "name": "stdout",
     "output_type": "stream",
     "text": [
      "My count is 0\n",
      "My count is 1\n",
      "My count is 2\n",
      "My count is 3\n",
      "My count is 4\n",
      "My count is 5\n",
      "My count is 6\n",
      "My count is 7\n",
      "My count is 8\n",
      "My count is 9\n"
     ]
    }
   ],
   "source": [
    "class Counter:\n",
    "    \n",
    "    def __init__(self, n=0):\n",
    "        self.n = n\n",
    "\n",
    "    def inc(self):\n",
    "        self.n = self.n + 1 #add on here depend on how many time run this code\n",
    "        \n",
    "c = Counter()\n",
    "\n",
    "counters = []\n",
    "for i in range(10):\n",
    "    counters.append(Counter(i))\n",
    "\n",
    "for counter in counters:\n",
    "    print('My count is', counter.n)"
   ]
  },
  {
   "cell_type": "markdown",
   "metadata": {},
   "source": [
    "# Exercise 21\n",
    "\n",
    "Create an class `TrafficLight` that has 3 Boolean attributes `red`, `orange`, and `green`, each representing the\n",
    "state of one light (on or off). When the traffic light is first created all lights are off. The traffic light has a\n",
    "method called `next_state` that makes the following transitions:\n",
    "\n",
    "1. From green to orange;\n",
    "2. From orange to red;\n",
    "3. From red to orange;\n",
    "4. From orange to green;\n",
    "5. Repeat from point 1.\n",
    "\n",
    "Make sure that only one light at the time is on. If no lights are on, turn the green light first. Also, implement\n",
    "a method `get_state` to return the state of the 3 lights (whether they are on or off) as a string."
   ]
  },
  {
   "cell_type": "code",
   "execution_count": 7,
   "metadata": {},
   "outputs": [],
   "source": [
    "class TrafficLight:\n",
    "    \n",
    "    def __init__(self):\n",
    "        self.green = False\n",
    "        self.orange = False\n",
    "        self.red = False\n",
    "        self.is_upward = False\n",
    "\n",
    "    def next_state(self):\n",
    "        if self.green:\n",
    "            self.green = False\n",
    "            self.orange = True\n",
    "        elif self.orange:\n",
    "            self.orange = False\n",
    "            if not self.is_upward:\n",
    "                self.red = True\n",
    "                self.is_upward = True\n",
    "            else:\n",
    "                self.green = True\n",
    "                self.is_upward = False\n",
    "        elif self.red:\n",
    "            self.red = False\n",
    "            self.orange = True\n",
    "        else:\n",
    "            self.green = True\n",
    "\n",
    "    def get_state(self):\n",
    "        res = ''\n",
    "        if self.green:\n",
    "            res = res + '\\033[1m\\033[92mO\\033[0m'\n",
    "        else:\n",
    "            res = res + 'O'\n",
    "        if self.orange:\n",
    "            res = res + '\\033[1m\\033[93mO\\033[0m'\n",
    "        else:\n",
    "            res = res + 'O'\n",
    "        if self.red:\n",
    "            res = res + '\\033[1m\\033[91mO\\033[0m'\n",
    "        else:\n",
    "            res = res + 'O'\n",
    "        return res"
   ]
  },
  {
   "cell_type": "code",
   "execution_count": 8,
   "metadata": {},
   "outputs": [
    {
     "name": "stdout",
     "output_type": "stream",
     "text": [
      "The light state is OOO\n",
      "The light state is \u001b[1m\u001b[92mO\u001b[0mOO\n",
      "The light state is O\u001b[1m\u001b[93mO\u001b[0mO\n",
      "The light state is OO\u001b[1m\u001b[91mO\u001b[0m\n",
      "The light state is O\u001b[1m\u001b[93mO\u001b[0mO\n",
      "The light state is \u001b[1m\u001b[92mO\u001b[0mOO\n",
      "The light state is O\u001b[1m\u001b[93mO\u001b[0mO\n",
      "The light state is OO\u001b[1m\u001b[91mO\u001b[0m\n",
      "The light state is O\u001b[1m\u001b[93mO\u001b[0mO\n",
      "The light state is \u001b[1m\u001b[92mO\u001b[0mOO\n",
      "The light state is O\u001b[1m\u001b[93mO\u001b[0mO\n"
     ]
    }
   ],
   "source": [
    "traffic_light = TrafficLight()\n",
    "\n",
    "print(\"The light state is\", traffic_light.get_state())\n",
    "for _ in range(10):\n",
    "    traffic_light.next_state()\n",
    "    print(\"The light state is\", traffic_light.get_state())"
   ]
  },
  {
   "cell_type": "markdown",
   "metadata": {},
   "source": [
    "## Inheritance\n",
    "\n",
    "In OOP, inheritance is the ability to create a child class from a parent class inheriting its attributes and methods.\n",
    "This enables hierarchical data structures and avoids code repetition.\n",
    "\n",
    "For example we can extend the abilities of the `Counter` class above by extending it like this:"
   ]
  },
  {
   "cell_type": "code",
   "execution_count": 9,
   "metadata": {},
   "outputs": [],
   "source": [
    "class TwoWayCounter(Counter):\n",
    "    \n",
    "    def dec(self):\n",
    "        self.n = self.n - 1"
   ]
  },
  {
   "cell_type": "code",
   "execution_count": 10,
   "metadata": {},
   "outputs": [
    {
     "name": "stdout",
     "output_type": "stream",
     "text": [
      "This is my new state after a dec 1\n",
      "This is my new state after an inc 0\n"
     ]
    }
   ],
   "source": [
    "tc = TwoWayCounter()\n",
    "tc.inc()\n",
    "print('This is my new state after a dec', tc.n)\n",
    "tc.dec()\n",
    "print('This is my new state after an inc', tc.n)"
   ]
  },
  {
   "cell_type": "markdown",
   "metadata": {},
   "source": [
    "# Exercise 22\n",
    "\n",
    "Create a `ResettableTrafficLight` class, which extends the `TrafficLight` class created above. This new traffic light\n",
    "implements a method `reset`, which resets the state of the traffic light to all lights off."
   ]
  },
  {
   "cell_type": "code",
   "execution_count": 11,
   "metadata": {},
   "outputs": [],
   "source": [
    "# complete the code\n",
    "\n",
    "class ResettableTrafficLight(TrafficLight):\n",
    "\n",
    "    def reset(self):\n",
    "        self.green = False\n",
    "        self.orange = False\n",
    "        self.red = False\n",
    "        self.is_upward = False"
   ]
  },
  {
   "cell_type": "code",
   "execution_count": 12,
   "metadata": {},
   "outputs": [
    {
     "name": "stdout",
     "output_type": "stream",
     "text": [
      "The light state is OOO\n",
      "The light state is \u001b[1m\u001b[92mO\u001b[0mOO\n",
      "The light state is O\u001b[1m\u001b[93mO\u001b[0mO\n",
      "The light state is OO\u001b[1m\u001b[91mO\u001b[0m\n",
      "The light state is O\u001b[1m\u001b[93mO\u001b[0mO\n",
      "The light state is \u001b[1m\u001b[92mO\u001b[0mOO\n",
      "The light state is O\u001b[1m\u001b[93mO\u001b[0mO\n",
      "The light state is OO\u001b[1m\u001b[91mO\u001b[0m\n",
      "The light state is O\u001b[1m\u001b[93mO\u001b[0mO\n",
      "The light state is \u001b[1m\u001b[92mO\u001b[0mOO\n",
      "The light state is O\u001b[1m\u001b[93mO\u001b[0mO\n",
      "The light is now reset\n",
      "The light state is \u001b[1m\u001b[92mO\u001b[0mOO\n",
      "The light state is O\u001b[1m\u001b[93mO\u001b[0mO\n",
      "The light state is OO\u001b[1m\u001b[91mO\u001b[0m\n",
      "The light state is O\u001b[1m\u001b[93mO\u001b[0mO\n",
      "The light state is \u001b[1m\u001b[92mO\u001b[0mOO\n",
      "The light state is O\u001b[1m\u001b[93mO\u001b[0mO\n",
      "The light state is OO\u001b[1m\u001b[91mO\u001b[0m\n",
      "The light state is O\u001b[1m\u001b[93mO\u001b[0mO\n",
      "The light state is \u001b[1m\u001b[92mO\u001b[0mOO\n",
      "The light state is O\u001b[1m\u001b[93mO\u001b[0mO\n"
     ]
    }
   ],
   "source": [
    "traffic_light = ResettableTrafficLight()\n",
    "\n",
    "print('The light state is', traffic_light.get_state())\n",
    "for _ in range(10):\n",
    "    traffic_light.next_state()\n",
    "    print('The light state is', traffic_light.get_state())\n",
    "\n",
    "traffic_light.reset()\n",
    "print('The light is now reset')\n",
    "for _ in range(10):\n",
    "    traffic_light.next_state()\n",
    "    print('The light state is', traffic_light.get_state())"
   ]
  },
  {
   "cell_type": "markdown",
   "metadata": {},
   "source": [
    "## Polymorphism\n",
    "\n",
    "In OOP, polymorphism is the ability to override methods of a parent class in a child class, changing how methods work\n",
    "depending on the context.\n",
    "\n",
    "For example, let's define a `SkippableCounter` that allows the user to specify by how many steps the counter\n",
    "should increment:"
   ]
  },
  {
   "cell_type": "markdown",
   "metadata": {},
   "source": [
    "# Exercise 23\n",
    "\n",
    "Create a `PrintableTrafficLight` extending the `TrafficLight`, which, every time the method `next_state` is called,\n",
    "prints out its new state to screen.\n",
    "\n",
    "TIP: you can call the same method defined in the parent class using `super()`."
   ]
  },
  {
   "cell_type": "code",
   "execution_count": 15,
   "metadata": {},
   "outputs": [
    {
     "name": "stdout",
     "output_type": "stream",
     "text": [
      "The light state is OOO\n"
     ]
    }
   ],
   "source": [
    "# complete the code\n",
    "\n",
    "class PrintableTrafficLight(TrafficLight):\n",
    "\n",
    "    def next_state(self):\n",
    "        self.next_state()\n",
    "        print(\"The light state is\", self.get_state())\n",
    "\n",
    "###super can inhereted so that you can use square class\n",
    "\n",
    "traffic_light = PrintableTrafficLight()\n",
    "\n",
    "print('The light state is', traffic_light.get_state())\n"
   ]
  },
  {
   "cell_type": "markdown",
   "metadata": {},
   "source": [
    "## Encapsulation\n",
    "\n",
    "Encapsulation allows to control what is accessible from (or exposed to) the code using the object.\n",
    "\n",
    "For example, we could consider unsafe to allow the program to change the state of the counter by doing something\n",
    "like this:"
   ]
  },
  {
   "cell_type": "code",
   "execution_count": 16,
   "metadata": {},
   "outputs": [],
   "source": [
    "counter = Counter()\n",
    "counter.n = 'hello'"
   ]
  },
  {
   "cell_type": "code",
   "execution_count": 17,
   "metadata": {},
   "outputs": [
    {
     "ename": "TypeError",
     "evalue": "can only concatenate str (not \"int\") to str",
     "output_type": "error",
     "traceback": [
      "\u001b[0;31m---------------------------------------------------------------------------\u001b[0m",
      "\u001b[0;31mTypeError\u001b[0m                                 Traceback (most recent call last)",
      "\u001b[0;32m/var/folders/34/w7yprsg16gs0572zm5qy8f380000gn/T/ipykernel_1920/2135916774.py\u001b[0m in \u001b[0;36m<module>\u001b[0;34m\u001b[0m\n\u001b[0;32m----> 1\u001b[0;31m \u001b[0mcounter\u001b[0m\u001b[0;34m.\u001b[0m\u001b[0minc\u001b[0m\u001b[0;34m(\u001b[0m\u001b[0;34m)\u001b[0m\u001b[0;34m\u001b[0m\u001b[0;34m\u001b[0m\u001b[0m\n\u001b[0m",
      "\u001b[0;32m/var/folders/34/w7yprsg16gs0572zm5qy8f380000gn/T/ipykernel_1920/3035804698.py\u001b[0m in \u001b[0;36minc\u001b[0;34m(self)\u001b[0m\n\u001b[1;32m      5\u001b[0m \u001b[0;34m\u001b[0m\u001b[0m\n\u001b[1;32m      6\u001b[0m     \u001b[0;32mdef\u001b[0m \u001b[0minc\u001b[0m\u001b[0;34m(\u001b[0m\u001b[0mself\u001b[0m\u001b[0;34m)\u001b[0m\u001b[0;34m:\u001b[0m\u001b[0;34m\u001b[0m\u001b[0;34m\u001b[0m\u001b[0m\n\u001b[0;32m----> 7\u001b[0;31m         \u001b[0mself\u001b[0m\u001b[0;34m.\u001b[0m\u001b[0mn\u001b[0m \u001b[0;34m=\u001b[0m \u001b[0mself\u001b[0m\u001b[0;34m.\u001b[0m\u001b[0mn\u001b[0m \u001b[0;34m+\u001b[0m \u001b[0;36m1\u001b[0m \u001b[0;31m#add on here depend on how many time run this code\u001b[0m\u001b[0;34m\u001b[0m\u001b[0;34m\u001b[0m\u001b[0m\n\u001b[0m\u001b[1;32m      8\u001b[0m \u001b[0;34m\u001b[0m\u001b[0m\n\u001b[1;32m      9\u001b[0m \u001b[0mc\u001b[0m \u001b[0;34m=\u001b[0m \u001b[0mCounter\u001b[0m\u001b[0;34m(\u001b[0m\u001b[0;34m)\u001b[0m\u001b[0;34m\u001b[0m\u001b[0;34m\u001b[0m\u001b[0m\n",
      "\u001b[0;31mTypeError\u001b[0m: can only concatenate str (not \"int\") to str"
     ]
    }
   ],
   "source": [
    "counter.inc()"
   ]
  },
  {
   "cell_type": "markdown",
   "metadata": {},
   "source": [
    "### To avoid this we can redefine the class `Counter` by making `n` private. This is done by using the double underscore __\n",
    "notation. Moreover, we should also make sure we can read the state of the counter by developing a getter method:"
   ]
  },
  {
   "cell_type": "code",
   "execution_count": 18,
   "metadata": {},
   "outputs": [],
   "source": [
    "class Counter:\n",
    "    \n",
    "    def __init__(self, n=0):\n",
    "        self.__n = n\n",
    "\n",
    "    def inc(self):\n",
    "        self.__n = self.__n + 1\n",
    "\n",
    "    def get_n(self):\n",
    "        return self.__n"
   ]
  },
  {
   "cell_type": "code",
   "execution_count": 19,
   "metadata": {},
   "outputs": [
    {
     "name": "stdout",
     "output_type": "stream",
     "text": [
      "This is my state 0\n",
      "This is my state 1\n"
     ]
    }
   ],
   "source": [
    "counter = Counter()\n",
    "counter.__n = 'hello'\n",
    "print('This is my state', counter.get_n())\n",
    "counter.inc()\n",
    "print('This is my state', counter.get_n())"
   ]
  },
  {
   "cell_type": "markdown",
   "metadata": {},
   "source": [
    "# Exercise 24\n",
    "\n",
    "Redefine the `TrafficLight` class by making the state of its lights private. Then, check that the extended\n",
    "classes `ResettableTrafficLight` and `PrintableTrafficLight` still work correctly; have they been affected by this\n",
    "change? If yes, change them appropriately."
   ]
  },
  {
   "cell_type": "code",
   "execution_count": 20,
   "metadata": {},
   "outputs": [],
   "source": [
    "# complete the code\n",
    "\n",
    "class TrafficLight:\n",
    "\n",
    "    def __init__(self):\n",
    "        self.__green = False\n",
    "        self.__orange = False\n",
    "        self.__red = False\n",
    "        self.is_upward = False\n",
    "\n",
    "    def next_state(self):\n",
    "        if self.__green:\n",
    "            self.__green = False\n",
    "            self.__orange = True\n",
    "        elif self.__orange:\n",
    "            self.__orange = False\n",
    "            if not self.is_upward:\n",
    "                self.__red = True\n",
    "                self.is_upward = True\n",
    "            else:\n",
    "                self.__green = True\n",
    "                self.is_upward = False\n",
    "        elif self.__red:\n",
    "            self.__red = False\n",
    "            self.__orange = True\n",
    "        else:\n",
    "            self.__green = True\n",
    "\n",
    "    def get_state(self):\n",
    "        res = ''\n",
    "        if self.__green:\n",
    "            res = res + '\\033[1m\\033[92mO\\033[0m'\n",
    "        else:\n",
    "            res = res + 'O'\n",
    "        if self.__orange:\n",
    "            res = res + '\\033[1m\\033[93mO\\033[0m'\n",
    "        else:\n",
    "            res = res + 'O'\n",
    "        if self.__red:\n",
    "            res = res + '\\033[1m\\033[91mO\\033[0m'\n",
    "        else:\n",
    "            res = res + 'O'\n",
    "        return res\n",
    "\n",
    "    def set_green(self, state):\n",
    "        self.__green = state\n",
    "\n",
    "    def set_orange(self, state):\n",
    "        self.__orange = state\n",
    "\n",
    "    def set_red(self, state):\n",
    "        self.__red = state\n",
    "\n",
    "\n",
    "class ResettableTrafficLight(TrafficLight):\n",
    "\n",
    "    def reset(self):\n",
    "        self.set_green(False)\n",
    "        self.set_orange(False)\n",
    "        self.set_red(False)\n",
    "        self.is_upward = False"
   ]
  },
  {
   "cell_type": "code",
   "execution_count": 21,
   "metadata": {},
   "outputs": [
    {
     "name": "stdout",
     "output_type": "stream",
     "text": [
      "The light state is OOO\n",
      "The light state is \u001b[1m\u001b[92mO\u001b[0mOO\n",
      "The light state is O\u001b[1m\u001b[93mO\u001b[0mO\n",
      "The light state is OO\u001b[1m\u001b[91mO\u001b[0m\n",
      "The light state is O\u001b[1m\u001b[93mO\u001b[0mO\n",
      "The light state is \u001b[1m\u001b[92mO\u001b[0mOO\n",
      "The light state is O\u001b[1m\u001b[93mO\u001b[0mO\n",
      "The light state is OO\u001b[1m\u001b[91mO\u001b[0m\n",
      "The light state is O\u001b[1m\u001b[93mO\u001b[0mO\n",
      "The light state is \u001b[1m\u001b[92mO\u001b[0mOO\n",
      "The light state is O\u001b[1m\u001b[93mO\u001b[0mO\n"
     ]
    }
   ],
   "source": [
    "traffic_light = TrafficLight()\n",
    "\n",
    "print(\"The light state is\", traffic_light.get_state())\n",
    "for _ in range(10):\n",
    "    traffic_light.next_state()\n",
    "    print(\"The light state is\", traffic_light.get_state())"
   ]
  },
  {
   "cell_type": "code",
   "execution_count": 22,
   "metadata": {},
   "outputs": [
    {
     "name": "stdout",
     "output_type": "stream",
     "text": [
      "The light state is OOO\n",
      "The light state is \u001b[1m\u001b[92mO\u001b[0mOO\n",
      "The light state is O\u001b[1m\u001b[93mO\u001b[0mO\n",
      "The light state is OO\u001b[1m\u001b[91mO\u001b[0m\n",
      "The light state is O\u001b[1m\u001b[93mO\u001b[0mO\n",
      "The light state is \u001b[1m\u001b[92mO\u001b[0mOO\n",
      "The light state is O\u001b[1m\u001b[93mO\u001b[0mO\n",
      "The light state is OO\u001b[1m\u001b[91mO\u001b[0m\n",
      "The light state is O\u001b[1m\u001b[93mO\u001b[0mO\n",
      "The light state is \u001b[1m\u001b[92mO\u001b[0mOO\n",
      "The light state is O\u001b[1m\u001b[93mO\u001b[0mO\n",
      "The light is now reset\n",
      "The light state is \u001b[1m\u001b[92mO\u001b[0mOO\n",
      "The light state is O\u001b[1m\u001b[93mO\u001b[0mO\n",
      "The light state is OO\u001b[1m\u001b[91mO\u001b[0m\n",
      "The light state is O\u001b[1m\u001b[93mO\u001b[0mO\n",
      "The light state is \u001b[1m\u001b[92mO\u001b[0mOO\n",
      "The light state is O\u001b[1m\u001b[93mO\u001b[0mO\n",
      "The light state is OO\u001b[1m\u001b[91mO\u001b[0m\n",
      "The light state is O\u001b[1m\u001b[93mO\u001b[0mO\n",
      "The light state is \u001b[1m\u001b[92mO\u001b[0mOO\n",
      "The light state is O\u001b[1m\u001b[93mO\u001b[0mO\n"
     ]
    }
   ],
   "source": [
    "traffic_light = ResettableTrafficLight()\n",
    "\n",
    "print(\"The light state is\", traffic_light.get_state())\n",
    "for _ in range(10):\n",
    "    traffic_light.next_state()\n",
    "    print(\"The light state is\", traffic_light.get_state())\n",
    "\n",
    "traffic_light.reset()\n",
    "print(\"The light is now reset\")\n",
    "for _ in range(10):\n",
    "    traffic_light.next_state()\n",
    "    print(\"The light state is\", traffic_light.get_state())"
   ]
  },
  {
   "cell_type": "markdown",
   "metadata": {},
   "source": [
    "# Exercise 25\n",
    "\n",
    "In PyCharm, create a project named `Exercise_23` with a file named `main.py`. Use this file to do a basic program\n",
    "planning and write in the main function the solution to the following exercise.\n",
    "\n",
    "Create a program that given a sequence of 3 angles as input classifies which triangle can be built with them:\n",
    "Equilateral, Isosceles, Scalene, or None. Then, the program should print out how many of each type can be built.\n",
    "\n",
    "Your program should contain the classes: \n",
    "`TriangleClassifier`, `Triangle`, `Equilateral`, `Isosceles`, and `Scalene`. \n",
    "\n",
    "The input file is given by the file `input.csv` as generated by the following code:"
   ]
  },
  {
   "cell_type": "code",
   "execution_count": 1,
   "metadata": {},
   "outputs": [],
   "source": [
    "potential_triangles = []\n",
    "\n",
    "for i in range(17):\n",
    "    angles = [0, 0, 0]\n",
    "    for j in range(2):\n",
    "        angles[0] = (i + 1) * 10\n",
    "        if 180 % (i + 1) == 0:\n",
    "            angles[1] = 180 / (i + 1) / 2 + j * 5\n",
    "        else:\n",
    "            angles[1] = 55 + j * 5\n",
    "    angles[2] = 180 - sum(angles)\n",
    "    potential_triangles.append(angles)\n",
    "\n",
    "potential_triangles.append([50, 50, 80])\n",
    "potential_triangles.append([60, 60, 60])\n",
    "potential_triangles.append([20, 20, 140])\n",
    "\n",
    "with open('input.csv', 'w') as f:\n",
    "    for angles in potential_triangles:\n",
    "        f.write(str(angles[0]) + ',' + str(angles[1]) + ',' + str(angles[2]) + '\\n')"
   ]
  }
 ],
 "metadata": {
  "interpreter": {
   "hash": "98590ff4fe04c8543246b2a01debd3de3c5ca9b666f43f1fa87d5110c692004c"
  },
  "kernelspec": {
   "display_name": "Python 3.10.1 64-bit",
   "language": "python",
   "name": "python3"
  },
  "language_info": {
   "codemirror_mode": {
    "name": "ipython",
    "version": 3
   },
   "file_extension": ".py",
   "mimetype": "text/x-python",
   "name": "python",
   "nbconvert_exporter": "python",
   "pygments_lexer": "ipython3",
   "version": "3.10.1"
  },
  "orig_nbformat": 4
 },
 "nbformat": 4,
 "nbformat_minor": 2
}
