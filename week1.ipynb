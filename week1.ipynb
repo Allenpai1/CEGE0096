{
 "cells": [
  {
   "cell_type": "markdown",
   "metadata": {},
   "source": [
    "# Practical: Python Notebooks and Python Basics"
   ]
  },
  {
   "cell_type": "markdown",
   "metadata": {},
   "source": [
    "Note that the line breaks are not needed in this example. If you include\n",
    "the letter `r` before a string it becomes a **raw** string, in which characters are not escaped but are included as data.\n"
   ]
  },
  {
   "cell_type": "code",
   "execution_count": 3,
   "metadata": {},
   "outputs": [
    {
     "name": "stdout",
     "output_type": "stream",
     "text": [
      "First line\\n Second line\\n third line\n"
     ]
    }
   ],
   "source": [
    "print(r'First line\\n Second line\\n third line')"
   ]
  },
  {
   "cell_type": "markdown",
   "metadata": {},
   "source": [
    "Strings can also be concatenated using the `+` operator or repeated\n",
    "using the `*` operator:"
   ]
  },
  {
   "cell_type": "code",
   "execution_count": 4,
   "metadata": {},
   "outputs": [
    {
     "name": "stdout",
     "output_type": "stream",
     "text": [
      "Spam, Spam\n",
      "Spam, Spam, Spam, Spam, Spam, Spam, Spam, Spam, Spam, Spam, Spam and Spam\n"
     ]
    }
   ],
   "source": [
    "word_1 = 'Spam'\n",
    "word_2 = ', Spam'\n",
    "word_3 = ' and Spam'\n",
    "print(word_1 + word_2)\n",
    "print(word_1 + word_2 * 10 + word_3)"
   ]
  },
  {
   "cell_type": "code",
   "execution_count": 5,
   "metadata": {},
   "outputs": [
    {
     "name": "stdout",
     "output_type": "stream",
     "text": [
      "S\n",
      "p\n",
      "a\n",
      "Sa\n"
     ]
    }
   ],
   "source": [
    "print (word_1[0])\n",
    "print (word_1[1])\n",
    "print (word_1[2:3])\n",
    "print (word_1[0] + word_2[4])"
   ]
  },
  {
   "cell_type": "code",
   "execution_count": 6,
   "metadata": {},
   "outputs": [
    {
     "name": "stdout",
     "output_type": "stream",
     "text": [
      ", S\n",
      "pam\n"
     ]
    }
   ],
   "source": [
    "print(word_2[:3])\n",
    "print(word_2[3:])"
   ]
  },
  {
   "cell_type": "code",
   "execution_count": 7,
   "metadata": {},
   "outputs": [
    {
     "name": "stdout",
     "output_type": "stream",
     "text": [
      "Single\n"
     ]
    }
   ],
   "source": [
    "x = int(input('Please enter an integer: '))\n",
    "if x < 0:\n",
    "    x = 0\n",
    "    print('Negative changed to zero')\n",
    "elif x == 0:\n",
    "    print('Zero')\n",
    "elif x == 1:\n",
    "    print('Single')\n",
    "else:\n",
    "    print('More')"
   ]
  },
  {
   "cell_type": "markdown",
   "metadata": {},
   "source": [
    "Ask the user to input 3 numbers and compute the mean and variance.\n",
    "\n",
    "TIP: The variance can be computed as\n",
    "$\\sigma = \\left[\\frac{1}{3}(a_1^2 + a_2^2 + a_3^2)\\right] - \\mu^2$,\n",
    "where $\\mu$ is the mean ($\\mu = \\frac{1}{3}(a_1 + a_2 + a_3)$)."
   ]
  },
  {
   "cell_type": "code",
   "execution_count": 8,
   "metadata": {},
   "outputs": [
    {
     "name": "stdout",
     "output_type": "stream",
     "text": [
      "Your input mean is: 2.0\n",
      "Your input variance is: 0.6666666666666661\n"
     ]
    }
   ],
   "source": [
    "number1=int(input('Please enter an iteger:'))\n",
    "number2=int(input('Please enter an iteger:'))\n",
    "number3=int(input('Please enter an iteger:'))\n",
    "mean=1/3*(number1+number2+number3)\n",
    "var=1/3*(number1**2+number2**2+number3**2)-mean**2\n",
    "print('Your input mean is:',mean)\n",
    "print('Your input variance is:',var)"
   ]
  },
  {
   "cell_type": "markdown",
   "metadata": {},
   "source": [
    "Like Exercise 4, but first ask the user about how many numbers should the mean and variance be computed on, 3, 4 or 5?"
   ]
  },
  {
   "cell_type": "code",
   "execution_count": 15,
   "metadata": {},
   "outputs": [
    {
     "name": "stdout",
     "output_type": "stream",
     "text": [
      "The input number is out of range\n"
     ]
    }
   ],
   "source": [
    "import numpy as np\n",
    "compute_number=int(input('Please enter how many number should the mean and variance be computed on 3,4,5?'))\n",
    "if compute_number==5:\n",
    "    number1=int(input('Please enter an iteger:'))\n",
    "    number2=int(input('Please enter an iteger:'))\n",
    "    number3=int(input('Please enter an iteger:'))\n",
    "    number4=int(input('Please enter an iteger:'))\n",
    "    number5=int(input('Please enter an iteger:'))\n",
    "    ls=[number1,number2,number3,number4,number5]\n",
    "    mean1=np.mean(ls)\n",
    "    var=1/3*(number1**2+number2**2+number3**2+number4**2+number5**2)-mean1**2\n",
    "    print('Your input mean is:',mean1)\n",
    "    print('Your input variance is:',var)\n",
    "if compute_number==3:\n",
    "    number1=int(input('Please enter an iteger:'))\n",
    "    number2=int(input('Please enter an iteger:'))\n",
    "    number3=int(input('Please enter an iteger:'))\n",
    "    ls=[number1,number2,number3]\n",
    "    mean1=np.mean(ls)\n",
    "    var=1/3*(number1**2+number2**2+number3**2)-mean1**2\n",
    "    print('Your input mean is:',mean1)\n",
    "    print('Your input variance is:',var)\n",
    "if compute_number==4:\n",
    "    number1=int(input('Please enter an iteger:'))\n",
    "    number2=int(input('Please enter an iteger:'))\n",
    "    number3=int(input('Please enter an iteger:'))\n",
    "    number4=int(input('Please enter an iteger:'))\n",
    "    ls=[number1,number2,number3,number4]\n",
    "    mean1=np.mean(ls)\n",
    "    var=1/3*(number1**2+number2**2+number3**2+number4**2)-mean1**2\n",
    "    print('Your input mean is:',mean1)\n",
    "    print('Your input variance is:',var)\n",
    "else:\n",
    "    print('The input number is out of range')\n",
    "    \n",
    "    "
   ]
  },
  {
   "cell_type": "code",
   "execution_count": null,
   "metadata": {},
   "outputs": [],
   "source": []
  }
 ],
 "metadata": {
  "interpreter": {
   "hash": "98590ff4fe04c8543246b2a01debd3de3c5ca9b666f43f1fa87d5110c692004c"
  },
  "kernelspec": {
   "display_name": "Python 3.10.1 64-bit",
   "language": "python",
   "name": "python3"
  },
  "language_info": {
   "codemirror_mode": {
    "name": "ipython",
    "version": 3
   },
   "file_extension": ".py",
   "mimetype": "text/x-python",
   "name": "python",
   "nbconvert_exporter": "python",
   "pygments_lexer": "ipython3",
   "version": "3.10.1"
  },
  "orig_nbformat": 4
 },
 "nbformat": 4,
 "nbformat_minor": 2
}
