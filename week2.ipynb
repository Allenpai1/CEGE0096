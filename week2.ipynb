{
 "cells": [
  {
   "cell_type": "markdown",
   "metadata": {},
   "source": [
    "## Control Flow in Python (II) "
   ]
  },
  {
   "cell_type": "markdown",
   "metadata": {},
   "source": [
    "### Iteration Loops\n",
    "\n",
    "**While Loops**\n",
    "\n",
    "A `while` loop is used to execute code while a particular condition is\n",
    "true. Once the condition is no longer true the loop will terminate. \n",
    "An example of a simple program is given the **Fibonacci** series:"
   ]
  },
  {
   "cell_type": "code",
   "execution_count": 1,
   "metadata": {},
   "outputs": [
    {
     "name": "stdout",
     "output_type": "stream",
     "text": [
      "1\n",
      "1\n",
      "2\n",
      "3\n",
      "5\n",
      "8\n"
     ]
    }
   ],
   "source": [
    "a = 0\n",
    "b = 1\n",
    "while b < 10:\n",
    "    print(b)\n",
    "    c = b\n",
    "    b = a + b\n",
    "    a = c"
   ]
  },
  {
   "cell_type": "code",
   "execution_count": 2,
   "metadata": {},
   "outputs": [
    {
     "name": "stdout",
     "output_type": "stream",
     "text": [
      "1\n",
      "1\n",
      "2\n",
      "3\n",
      "5\n",
      "8\n"
     ]
    }
   ],
   "source": [
    "a, b = 0, 1\n",
    "while b < 10:\n",
    "    print(b)\n",
    "    a, b = b, a + b"
   ]
  },
  {
   "cell_type": "code",
   "execution_count": 3,
   "metadata": {},
   "outputs": [
    {
     "name": "stdout",
     "output_type": "stream",
     "text": [
      "1\n",
      "1\n",
      "2\n",
      "3\n",
      "5\n",
      "8\n"
     ]
    }
   ],
   "source": [
    "last_n = 6\n",
    "a, b = 0, 1\n",
    "for n in range(last_n):\n",
    "    print(b)\n",
    "    a, b = b, a + b"
   ]
  },
  {
   "cell_type": "code",
   "execution_count": 4,
   "metadata": {},
   "outputs": [
    {
     "name": "stdout",
     "output_type": "stream",
     "text": [
      "1\n",
      "3\n",
      "5\n",
      "7\n",
      "9\n"
     ]
    }
   ],
   "source": [
    "for n in range(1,10,2):\n",
    "    print(n)"
   ]
  },
  {
   "cell_type": "markdown",
   "metadata": {},
   "source": [
    "## Exercise 6\n",
    "\n",
    "Transform the code below (from Exercise 3) in a way that, instead of asking the user to input an integer once,\n",
    "it keeps asking the user to enter an integer value as long as the inputted value is a number between 1 and 7."
   ]
  },
  {
   "cell_type": "code",
   "execution_count": 7,
   "metadata": {},
   "outputs": [
    {
     "name": "stdout",
     "output_type": "stream",
     "text": [
      "Wednesday\n",
      "Thursday\n",
      "Friday\n",
      "Tuesday\n",
      "Monday\n",
      "Tuesday\n",
      "Wednesday\n",
      "The provided integer does not correspond to a day!\n"
     ]
    }
   ],
   "source": [
    "n = int(input('Please enter an integer: '))\n",
    "\n",
    "while n >= 1 and n <= 7:\n",
    "    if n == 1:\n",
    "        print('Monday')\n",
    "    elif n == 2:\n",
    "        print('Tuesday')\n",
    "    elif n == 3:\n",
    "        print('Wednesday')\n",
    "    elif n == 4:\n",
    "        print('Thursday')\n",
    "    elif n == 5:\n",
    "        print('Friday')\n",
    "    elif n == 6:\n",
    "        print('Saturday')\n",
    "    elif n == 7:\n",
    "        print('Sunday')\n",
    "\n",
    "    n = int(input('Please enter an integer: '))\n",
    "\n",
    "print('The provided integer does not correspond to a day!')"
   ]
  },
  {
   "cell_type": "markdown",
   "metadata": {},
   "source": [
    "# Exercise 7\n",
    "\n",
    "How would you change the solution to Exercise 6, if the terminating condition is set to be equal to the first number\n",
    "the user entered? For example, if the user first enters 2 the code will ask the user 2 times in total, or if the users\n",
    "first enters 9 the code will ask the user 9 times in total.\n",
    "\n",
    "Write your solution here:"
   ]
  },
  {
   "cell_type": "code",
   "execution_count": 15,
   "metadata": {},
   "outputs": [
    {
     "name": "stdout",
     "output_type": "stream",
     "text": [
      "Friday\n",
      "Monday\n",
      "Tuesday\n",
      "Wednesday\n",
      "Thursday\n",
      "Reached the maximum enters\n"
     ]
    }
   ],
   "source": [
    "n = int(input('Please enter an integer: '))\n",
    "count=n\n",
    "\n",
    "while n >= 1 and n <= 7:\n",
    "    if n == 1:\n",
    "        print('Monday')\n",
    "    elif n == 2:\n",
    "        print('Tuesday')\n",
    "    elif n == 3:\n",
    "        print('Wednesday')\n",
    "    elif n == 4:\n",
    "        print('Thursday')\n",
    "    elif n == 5:\n",
    "        print('Friday')\n",
    "    elif n == 6:\n",
    "        print('Saturday')\n",
    "    elif n == 7:\n",
    "        print('Sunday')\n",
    "    count=count-1\n",
    "    \n",
    "    if count<1:\n",
    "        break\n",
    "        \n",
    "        \n",
    "    else:\n",
    "        n=int(input('Please enter an integer: '))\n",
    "if n<1 or n>7:\n",
    "    print('The provided integer does not correspond to a day!')\n",
    "print('Reached the maximum enters')"
   ]
  },
  {
   "cell_type": "markdown",
   "metadata": {},
   "source": [
    "# Exercise 8\n",
    "\n",
    "Compute mean and variance for a number of inputs given by the user. Also the values needed to compute the mean and\n",
    "variance are inputted by the user.\n",
    "\n",
    "TIP: Remember how we computed the mean and variance in Exercise 5.\n",
    "\n",
    "Write your solution here:"
   ]
  },
  {
   "cell_type": "code",
   "execution_count": 17,
   "metadata": {},
   "outputs": [
    {
     "name": "stdout",
     "output_type": "stream",
     "text": [
      "The mean is 1.5 and the variance is 0.25\n"
     ]
    }
   ],
   "source": [
    "num = 0.0 # variable initialization\n",
    "squared_num = 0.0\n",
    "\n",
    "n = int(input('Number of inputs: '))\n",
    "\n",
    "for i in range(n):\n",
    "    a = float(input('Insert value number ' + str(i + 1) + ': '))\n",
    "    num = num + a\n",
    "    squared_num = squared_num + a**2\n",
    "\n",
    "mean = num/n\n",
    "variance = squared_num/n - mean**2\n",
    "\n",
    "print('The mean is', mean, 'and the variance is', variance)"
   ]
  },
  {
   "cell_type": "markdown",
   "metadata": {},
   "source": [
    "# Functions\n",
    "\n",
    "Control flow allows you to iterate based on certain conditions being met. \n",
    "More often than not, you will want to complete a specific task or a set of tasks\n",
    "multiple times on different data. For example, you may wish to count the\n",
    "number of points belonging to a set of lines, or calculate the area of\n",
    "a set of polygons.\n",
    "\n",
    "The examples you have worked through so far are designed to be run once.\n",
    "For instance, in the case of the if statement example:\n",
    "\n",
    "Each time you want to check the value of an integer against the\n",
    "conditions you must run the entire code, which is a very inefficient way\n",
    "of doing things. Fortunately, we can automate this process using\n",
    "**functions**. The if statement can be easily converted into a function as\n",
    "follows:"
   ]
  },
  {
   "cell_type": "code",
   "execution_count": 18,
   "metadata": {},
   "outputs": [],
   "source": [
    "def check_int(x):\n",
    "    if x < 0:\n",
    "        x = 0\n",
    "        print('Negative changed to zero')\n",
    "    elif x == 0:\n",
    "        print('Zero')\n",
    "    elif x == 1:\n",
    "        print('Single')\n",
    "    else:\n",
    "        print('More')\n",
    "    return x"
   ]
  },
  {
   "cell_type": "markdown",
   "metadata": {},
   "source": [
    "In this example, the output of `check_int(x)` is not assigned to\n",
    "anything so the returned value is printed in the console. However, you could\n",
    "assign it to another variable. The advantage of containing the code\n",
    "within a function is that we only need to write it explicitly once\n",
    "(**function definition**), after which it is dealt with internally via\n",
    "the **function call**. This makes it simple to repeat the procedures\n",
    "contained within the function multiple times.\n",
    "\n",
    "Let’s look at an example with some input parameters. Suppose we want to\n",
    "calculate the midpoint of a straight line. Given the two endpoints\n",
    "$p_1$ and $p_2$ and encoding the x and y coordinates of each as $x_1$,\n",
    "$y_1$, $x_2$, $y_2$, the coordinates of the midpoint $p_3$ are calculated as:\n",
    "\n",
    "$$p_3 = \\left(\\frac{x_1 + x_2}{2},\\frac{y_1 + y_2}{2}\\right)$$\n",
    "\n",
    "We can create a function to do this as follows:"
   ]
  },
  {
   "cell_type": "code",
   "execution_count": 23,
   "metadata": {},
   "outputs": [
    {
     "data": {
      "text/plain": [
       "(2.5, 2.5)"
      ]
     },
     "execution_count": 23,
     "metadata": {},
     "output_type": "execute_result"
    }
   ],
   "source": [
    "def midpoint(x_1, y_1, x_2, y_2):\n",
    "    return (x_1+x_2)/2, (y_1+y_2)/2\n",
    "midpoint(0, 0, 5, 5)"
   ]
  },
  {
   "cell_type": "code",
   "execution_count": 22,
   "metadata": {},
   "outputs": [
    {
     "name": "stdout",
     "output_type": "stream",
     "text": [
      "The mean is 3.0 and the variance is 2.0\n"
     ]
    }
   ],
   "source": [
    "#write exercise 8 as a function\n",
    "def mean_var(n):\n",
    "    num = 0.0 # variable initialization\n",
    "    squared_num = 0.0\n",
    "\n",
    "    for i in range(n):\n",
    "        a = float(input('Insert value number ' + str(i + 1) + ': '))\n",
    "        num = num + a\n",
    "        squared_num = squared_num + a**2\n",
    "\n",
    "    mean = num/n\n",
    "    variance = squared_num/n - mean**2\n",
    "\n",
    "    print('The mean is', mean, 'and the variance is', variance)\n",
    "\n",
    "mean_var(5)"
   ]
  },
  {
   "cell_type": "markdown",
   "metadata": {},
   "source": [
    "# Program Planning\n",
    "\n",
    "During the lecture you learnt that to program a Python script as a standalone application (without Jupyter), \n",
    "you need to structure your code in a certain way. In particular, this code should include\n",
    "an `if __name__ == '__main__':` statement and a `main` function.\n",
    "\n",
    "For the following exercises you should not use the Jupyter notebook."
   ]
  },
  {
   "cell_type": "code",
   "execution_count": null,
   "metadata": {},
   "outputs": [],
   "source": [
    "#see week2.py"
   ]
  },
  {
   "cell_type": "markdown",
   "metadata": {},
   "source": [
    "# Version Control Software: Git\n",
    "\n",
    "Now that we have created our first program we want to make sure that our development will continue smoothly: we want to\n",
    "keep track of the changes done to the project, we want to share this project with our collaborators and make regular\n",
    "backups. To do this we use the Version Control Software, Git.\n",
    "\n",
    "But before using it we need to install it. To do this you need to run the command `conda install git` in your anaconda\n",
    "prompt (make sure to be in the `geospatial` environment). To check if we have correctly installed Git run\n",
    "`git --version`.\n",
    "\n",
    "Once we have installed it, we can now create a repository for the `Exercise_10` project by typing (from inside the\n",
    "folder):\n",
    "\n",
    "`$ git init`\n",
    "\n",
    "After the repository has been initialized you can check its status by typing:\n",
    "\n",
    "`$ git status`\n",
    "\n",
    "Before making our first commit. We want to add a remote to this repository. To do this we create a private repository in\n",
    "GitHub named `CEGE0096: 2nd Practical`. Then, add this remote repository to your local one using the command:\n",
    "\n",
    "`$ git remote add origin <url>`\n",
    "\n",
    "You can check if this remote has been added correctly by typing:\n",
    "\n",
    "`$ git remote -v`"
   ]
  },
  {
   "cell_type": "markdown",
   "metadata": {},
   "source": [
    "# Exercise 11\n",
    "\n",
    "Throughout the following exercise, please always check what is happening to your local repository\n",
    "(using `git status` and `git log`) and to your GitHub repository.\n",
    "\n",
    "Using the git repository created above, you should now:\n",
    "\n",
    "1. Track/Stage your `main.py` file (using `git add`);\n",
    "2. Commit your changes to your local repository writing an appropriate commit message (using `git commit -m \"message\"`);\n",
    "3. Push these changes to your remote repository by typing `git push origin master`."
   ]
  },
  {
   "cell_type": "markdown",
   "metadata": {},
   "source": [
    "# Exercise 12\n",
    "\n",
    "In the project used for Exercise 11, change your `main.py` in a way that now the code executes the program you have\n",
    "developed for `Exercise 6`. Then, commit and push your changes with an appropriate message."
   ]
  },
  {
   "cell_type": "markdown",
   "metadata": {},
   "source": []
  }
 ],
 "metadata": {
  "interpreter": {
   "hash": "98590ff4fe04c8543246b2a01debd3de3c5ca9b666f43f1fa87d5110c692004c"
  },
  "kernelspec": {
   "display_name": "Python 3.10.1 64-bit",
   "language": "python",
   "name": "python3"
  },
  "language_info": {
   "codemirror_mode": {
    "name": "ipython",
    "version": 3
   },
   "file_extension": ".py",
   "mimetype": "text/x-python",
   "name": "python",
   "nbconvert_exporter": "python",
   "pygments_lexer": "ipython3",
   "version": "3.10.1"
  },
  "orig_nbformat": 4
 },
 "nbformat": 4,
 "nbformat_minor": 2
}
